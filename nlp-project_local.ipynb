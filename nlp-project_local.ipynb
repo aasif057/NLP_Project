{
 "cells": [
  {
   "cell_type": "code",
   "execution_count": 1,
   "metadata": {},
   "outputs": [],
   "source": [
    "import json\n",
    "import torch\n",
    "from transformers import BertTokenizer, BertForMultipleChoice\n",
    "import json\n",
    "from transformers import RobertaTokenizer, RobertaForMultipleChoice\n",
    "from word2number import w2n"
   ]
  },
  {
   "cell_type": "code",
   "execution_count": 2,
   "metadata": {},
   "outputs": [],
   "source": [
    "def load_data(file_path):\n",
    "    with open(file_path, 'r') as f:\n",
    "        return json.load(f)"
   ]
  },
  {
   "cell_type": "code",
   "execution_count": 3,
   "metadata": {},
   "outputs": [],
   "source": [
    "def digit_based_reframing(text):\n",
    "    #input reframing by converting textual numbers into their digit based representation\n",
    "    words = text.split()\n",
    "    for i, word in enumerate(words):\n",
    "        try:\n",
    "            words[i] = str(w2n.word_to_num(word))\n",
    "        except ValueError:  # Ignore non numeric words\n",
    "            pass\n",
    "    return ' '.join(words)\n"
   ]
  },
  {
   "cell_type": "code",
   "execution_count": 4,
   "metadata": {},
   "outputs": [],
   "source": [
    "# Preprocessing Function, using reframing type as a parameter\n",
    "def preprocess_data(data, reframing_type=\"original\"):\n",
    "    questions, choices, labels = [], [], []\n",
    "    \n",
    "    for item in data:\n",
    "        if reframing_type == \"original\":\n",
    "            question = item['question']\n",
    "        elif reframing_type == \"scientific\":\n",
    "            question = item['question_sci_10E']\n",
    "        elif reframing_type == \"digit_based\":\n",
    "            question = digit_based_reframing(item['question'])\n",
    "        else:\n",
    "            raise ValueError(\"Invalid reframing type!\")\n",
    "\n",
    "        questions.append(question)\n",
    "        choices.append([item['Option1'], item['Option2']])\n",
    "        labels.append(0 if item['answer'] == 'Option 1' else 1)\n",
    "    \n",
    "    return questions, choices, labels"
   ]
  },
  {
   "cell_type": "code",
   "execution_count": 5,
   "metadata": {},
   "outputs": [],
   "source": [
    "# Load datasets\n",
    "# train_data = load_data(\"QQA_train.json\")\n",
    "dev_data = load_data(\"QQA_dev.json\")\n",
    "# test_data = load_data(\"QQA_test.json\")"
   ]
  },
  {
   "cell_type": "code",
   "execution_count": 6,
   "metadata": {},
   "outputs": [],
   "source": [
    "# Preprocess datasets without any reframing\n",
    "# train_qs_orig, train_choices_orig, train_labels_orig = preprocess_data(train_data, \"original\")\n",
    "dev_qs_orig, dev_choices_orig, dev_labels_orig = preprocess_data(dev_data, \"original\")"
   ]
  },
  {
   "cell_type": "code",
   "execution_count": 7,
   "metadata": {},
   "outputs": [],
   "source": [
    "# Preprocess datasets based on scientific notation reframing\n",
    "# train_qs_sci, train_choices_sci, train_labels_sci = preprocess_data(train_data, \"scientific\")\n",
    "dev_qs_sci, dev_choices_sci, dev_labels_sci = preprocess_data(dev_data, \"scientific\")"
   ]
  },
  {
   "cell_type": "code",
   "execution_count": 8,
   "metadata": {},
   "outputs": [],
   "source": [
    "# Preprocess datasets based on digit based input reframing\n",
    "# train_qs_digit, train_choices_digit, train_labels_digit = preprocess_data(train_data, \"digit_based\")\n",
    "dev_qs_digit, dev_choices_digit, dev_labels_digit = preprocess_data(dev_data, \"digit_based\")"
   ]
  },
  {
   "cell_type": "code",
   "execution_count": 9,
   "metadata": {},
   "outputs": [
    {
     "name": "stdout",
     "output_type": "stream",
     "text": [
      "cuda\n"
     ]
    }
   ],
   "source": [
    "device = torch.device(\"cuda\" if torch.cuda.is_available() else \"cpu\")\n",
    "print(device)"
   ]
  },
  {
   "cell_type": "code",
   "execution_count": 10,
   "metadata": {},
   "outputs": [
    {
     "name": "stderr",
     "output_type": "stream",
     "text": [
      "Some weights of BertForMultipleChoice were not initialized from the model checkpoint at bert-base-uncased and are newly initialized: ['classifier.bias', 'classifier.weight']\n",
      "You should probably TRAIN this model on a down-stream task to be able to use it for predictions and inference.\n",
      "Some weights of RobertaForMultipleChoice were not initialized from the model checkpoint at roberta-base and are newly initialized: ['classifier.bias', 'classifier.weight', 'roberta.pooler.dense.bias', 'roberta.pooler.dense.weight']\n",
      "You should probably TRAIN this model on a down-stream task to be able to use it for predictions and inference.\n"
     ]
    }
   ],
   "source": [
    "# Load BERT and RoBERTa tokenizer and pretrained model\n",
    "bert_tokenizer = BertTokenizer.from_pretrained(\"bert-base-uncased\")\n",
    "bert_model = BertForMultipleChoice.from_pretrained(\"bert-base-uncased\").to(device)\n",
    "roberta_tokenizer = RobertaTokenizer.from_pretrained(\"roberta-base\")\n",
    "roberta_model = RobertaForMultipleChoice.from_pretrained(\"roberta-base\").to(device)"
   ]
  },
  {
   "cell_type": "code",
   "execution_count": 11,
   "metadata": {},
   "outputs": [],
   "source": [
    "# Tokenization of questions and their choices\n",
    "def encode_example(tokenizer, question, choices):\n",
    "    encodings = tokenizer([question] * len(choices), choices, padding=True, truncation=True, return_tensors=\"pt\")\n",
    "    return {key: val.unsqueeze(0).to(device) for key, val in encodings.items()}"
   ]
  },
  {
   "cell_type": "code",
   "execution_count": 12,
   "metadata": {},
   "outputs": [],
   "source": [
    "# Evaluation Function which takes model, tokenizer and processed data\n",
    "def evaluate(model, tokenizer, dev_qs, dev_choices, dev_labels):\n",
    "    correct = 0\n",
    "    model.eval()\n",
    "    with torch.no_grad():\n",
    "        for q, c, label in zip(dev_qs, dev_choices, dev_labels):\n",
    "            inputs = encode_example(tokenizer, q, c)\n",
    "            logits = model(**inputs).logits\n",
    "            pred = torch.argmax(logits, dim=1).item()\n",
    "            correct += (pred == label)\n",
    "    return correct / len(dev_labels)"
   ]
  },
  {
   "cell_type": "markdown",
   "metadata": {},
   "source": [
    "### Evaluation of BERT Model"
   ]
  },
  {
   "cell_type": "code",
   "execution_count": 13,
   "metadata": {},
   "outputs": [
    {
     "name": "stdout",
     "output_type": "stream",
     "text": [
      "Evaluating BERT withot any input reframing\n",
      "BERT Accuracy (Original): 0.5185\n"
     ]
    }
   ],
   "source": [
    "print(\"Evaluating BERT withot any input reframing\")\n",
    "accuracy = evaluate(bert_model, bert_tokenizer, dev_qs_orig, dev_choices_orig, dev_labels_orig)\n",
    "print(f\"BERT Accuracy (Original): {accuracy:.4f}\")"
   ]
  },
  {
   "cell_type": "code",
   "execution_count": 14,
   "metadata": {},
   "outputs": [
    {
     "name": "stdout",
     "output_type": "stream",
     "text": [
      "Evaluating BERT with Scientific Notation Based Reframing\n",
      "BERT Accuracy (Original): 0.4815\n"
     ]
    }
   ],
   "source": [
    "# Run Evaluation\n",
    "print(\"Evaluating BERT with Scientific Notation Based Reframing\")\n",
    "accuracy = evaluate(bert_model, bert_tokenizer, dev_qs_sci, dev_choices_sci, dev_labels_sci)\n",
    "print(f\"BERT Accuracy (Original): {accuracy:.4f}\")"
   ]
  },
  {
   "cell_type": "code",
   "execution_count": 15,
   "metadata": {},
   "outputs": [
    {
     "name": "stdout",
     "output_type": "stream",
     "text": [
      "Evaluating BERT with Digit Based Reframing\n",
      "BERT Accuracy (Original): 0.5309\n"
     ]
    }
   ],
   "source": [
    "# Run Evaluation\n",
    "print(\"Evaluating BERT with Digit Based Reframing\")\n",
    "accuracy = evaluate(bert_model, bert_tokenizer, dev_qs_digit, dev_choices_digit, dev_labels_digit)\n",
    "print(f\"BERT Accuracy (Original): {accuracy:.4f}\")"
   ]
  },
  {
   "cell_type": "markdown",
   "metadata": {},
   "source": [
    "### Evaluating Roberta Model"
   ]
  },
  {
   "cell_type": "code",
   "execution_count": 16,
   "metadata": {},
   "outputs": [
    {
     "name": "stdout",
     "output_type": "stream",
     "text": [
      "Evaluating Roberta withot any input reframing\n",
      "BERT Accuracy (Original): 0.5185\n"
     ]
    }
   ],
   "source": [
    "# Run Evaluation\n",
    "print(\"Evaluating Roberta withot any input reframing\")\n",
    "accuracy = evaluate(roberta_model, roberta_tokenizer, dev_qs_orig, dev_choices_orig, dev_labels_orig)\n",
    "print(f\"BERT Accuracy (Original): {accuracy:.4f}\")"
   ]
  },
  {
   "cell_type": "code",
   "execution_count": 17,
   "metadata": {},
   "outputs": [
    {
     "name": "stdout",
     "output_type": "stream",
     "text": [
      "Evaluating Roberta with Scientific Notaion Based Reframing\n",
      "BERT Accuracy (Original): 0.5062\n"
     ]
    }
   ],
   "source": [
    "# Run Evaluation\n",
    "print(\"Evaluating Roberta with Scientific Notaion Based Reframing\")\n",
    "accuracy = evaluate(roberta_model, roberta_tokenizer, dev_qs_sci, dev_choices_sci, dev_labels_sci)\n",
    "print(f\"BERT Accuracy (Original): {accuracy:.4f}\")"
   ]
  },
  {
   "cell_type": "code",
   "execution_count": 18,
   "metadata": {},
   "outputs": [
    {
     "name": "stdout",
     "output_type": "stream",
     "text": [
      "Evaluating Roberta with Digit Based Reframing \n",
      "BERT Accuracy (Original): 0.5926\n"
     ]
    }
   ],
   "source": [
    "# Run Evaluation\n",
    "print(\"Evaluating Roberta with Digit Based Reframing \")\n",
    "accuracy = evaluate(roberta_model, roberta_tokenizer, dev_qs_digit, dev_choices_digit, dev_labels_digit)\n",
    "print(f\"BERT Accuracy (Original): {accuracy:.4f}\")"
   ]
  },
  {
   "cell_type": "code",
   "execution_count": null,
   "metadata": {},
   "outputs": [],
   "source": []
  },
  {
   "cell_type": "code",
   "execution_count": null,
   "metadata": {},
   "outputs": [],
   "source": []
  }
 ],
 "metadata": {
  "kaggle": {
   "accelerator": "nvidiaTeslaT4",
   "dataSources": [
    {
     "datasetId": 6950036,
     "sourceId": 11141644,
     "sourceType": "datasetVersion"
    }
   ],
   "dockerImageVersionId": 30919,
   "isGpuEnabled": true,
   "isInternetEnabled": true,
   "language": "python",
   "sourceType": "notebook"
  },
  "kernelspec": {
   "display_name": "Python 3 (ipykernel)",
   "language": "python",
   "name": "python3"
  },
  "language_info": {
   "codemirror_mode": {
    "name": "ipython",
    "version": 3
   },
   "file_extension": ".py",
   "mimetype": "text/x-python",
   "name": "python",
   "nbconvert_exporter": "python",
   "pygments_lexer": "ipython3",
   "version": "3.12.3"
  }
 },
 "nbformat": 4,
 "nbformat_minor": 4
}
