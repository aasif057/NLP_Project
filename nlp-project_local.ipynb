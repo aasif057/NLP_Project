{
 "cells": [
  {
   "cell_type": "code",
   "execution_count": 2,
   "metadata": {},
   "outputs": [],
   "source": [
    "import json\n",
    "import torch\n",
    "from transformers import BertTokenizer, BertForMultipleChoice\n",
    "import json\n",
    "from transformers import RobertaTokenizer, RobertaForMultipleChoice\n",
    "from word2number import w2n"
   ]
  },
  {
   "cell_type": "code",
   "execution_count": 3,
   "metadata": {},
   "outputs": [],
   "source": [
    "def load_data(file_path):\n",
    "    with open(file_path, 'r') as f:\n",
    "        return json.load(f)"
   ]
  },
  {
   "cell_type": "code",
   "execution_count": 4,
   "metadata": {},
   "outputs": [],
   "source": [
    "def input_reframing(text):\n",
    "    #Convert numbers in text to words for improved numeracy handling.\n",
    "    words = text.split()\n",
    "    for i, word in enumerate(words):\n",
    "        try:\n",
    "            words[i] = w2n.word_to_num(word)\n",
    "        except:\n",
    "            pass\n",
    "    return ' '.join(map(str, words))"
   ]
  },
  {
   "cell_type": "code",
   "execution_count": 5,
   "metadata": {},
   "outputs": [],
   "source": [
    "def preprocess_data_wo_ir(data):\n",
    "    # Preprocess data by extracting question, options, and correct answer wihtout any input reframing\n",
    "    questions, choices, labels = [], [], []\n",
    "    for item in data:\n",
    "        questions.append(item['question'])\n",
    "        choices.append([item['Option1'], item['Option2']])\n",
    "        labels.append(0 if item['answer'] == 'Option 1' else 1)\n",
    "    return questions, choices, labels\n"
   ]
  },
  {
   "cell_type": "code",
   "execution_count": 6,
   "metadata": {},
   "outputs": [],
   "source": [
    "def preprocess_data_ir(data):\n",
    "    #Preprocess data by extracting question, options, and correct answer and applying input reframing on questions\n",
    "    questions, choices, labels = [], [], []\n",
    "    for item in data:\n",
    "        question = input_reframing(item['question'])\n",
    "        questions.append(question)\n",
    "        choices.append([input_reframing(item['Option1']), input_reframing(item['Option2'])])\n",
    "        labels.append(0 if item['answer'] == 'Option 1' else 1)\n",
    "    return questions, choices, labels"
   ]
  },
  {
   "cell_type": "code",
   "execution_count": 7,
   "metadata": {},
   "outputs": [],
   "source": [
    "# Load datasets\n",
    "train_data = load_data(\"QQA_train.json\")\n",
    "dev_data = load_data(\"QQA_dev.json\")\n",
    "test_data = load_data(\"QQA_test.json\")"
   ]
  },
  {
   "cell_type": "code",
   "execution_count": 8,
   "metadata": {},
   "outputs": [],
   "source": [
    "# Preprocess datasets without any input reframing\n",
    "train_qs_1, train_choices_1, train_labels_1 = preprocess_data_wo_ir(train_data)\n",
    "dev_qs_1, dev_choices_1, dev_labels_1 = preprocess_data_wo_ir(dev_data)\n",
    "test_qs_1, test_choices_1, test_labels_1 = preprocess_data_wo_ir(test_data)"
   ]
  },
  {
   "cell_type": "code",
   "execution_count": 9,
   "metadata": {},
   "outputs": [],
   "source": [
    "# Preprocess datasets with input reframing\n",
    "train_qs_2, train_choices_2, train_labels_2 = preprocess_data_ir(train_data)\n",
    "dev_qs_2, dev_choices_2, dev_labels_2 = preprocess_data_ir(dev_data)\n",
    "test_qs_2, test_choices_2, test_labels_2 = preprocess_data_ir(test_data)"
   ]
  },
  {
   "cell_type": "code",
   "execution_count": 10,
   "metadata": {},
   "outputs": [
    {
     "name": "stdout",
     "output_type": "stream",
     "text": [
      "cuda\n"
     ]
    }
   ],
   "source": [
    "device = torch.device(\"cuda\" if torch.cuda.is_available() else \"cpu\")\n",
    "print(device)"
   ]
  },
  {
   "cell_type": "code",
   "execution_count": 11,
   "metadata": {},
   "outputs": [
    {
     "name": "stderr",
     "output_type": "stream",
     "text": [
      "Some weights of BertForMultipleChoice were not initialized from the model checkpoint at bert-base-uncased and are newly initialized: ['classifier.bias', 'classifier.weight']\n",
      "You should probably TRAIN this model on a down-stream task to be able to use it for predictions and inference.\n"
     ]
    },
    {
     "data": {
      "application/vnd.jupyter.widget-view+json": {
       "model_id": "0749127886d84dbf895ec0993a22affe",
       "version_major": 2,
       "version_minor": 0
      },
      "text/plain": [
       "tokenizer_config.json:   0%|          | 0.00/25.0 [00:00<?, ?B/s]"
      ]
     },
     "metadata": {},
     "output_type": "display_data"
    },
    {
     "data": {
      "application/vnd.jupyter.widget-view+json": {
       "model_id": "52d54964d422453a981cf45bc0f088da",
       "version_major": 2,
       "version_minor": 0
      },
      "text/plain": [
       "vocab.json:   0%|          | 0.00/899k [00:00<?, ?B/s]"
      ]
     },
     "metadata": {},
     "output_type": "display_data"
    },
    {
     "data": {
      "application/vnd.jupyter.widget-view+json": {
       "model_id": "ed5cb649b226400abe26670f841fa721",
       "version_major": 2,
       "version_minor": 0
      },
      "text/plain": [
       "merges.txt:   0%|          | 0.00/456k [00:00<?, ?B/s]"
      ]
     },
     "metadata": {},
     "output_type": "display_data"
    },
    {
     "data": {
      "application/vnd.jupyter.widget-view+json": {
       "model_id": "10033c47c65a417eb8b403dedf234c4d",
       "version_major": 2,
       "version_minor": 0
      },
      "text/plain": [
       "tokenizer.json:   0%|          | 0.00/1.36M [00:00<?, ?B/s]"
      ]
     },
     "metadata": {},
     "output_type": "display_data"
    },
    {
     "data": {
      "application/vnd.jupyter.widget-view+json": {
       "model_id": "ef16568390504bda97e31663b7b6cf9c",
       "version_major": 2,
       "version_minor": 0
      },
      "text/plain": [
       "config.json:   0%|          | 0.00/481 [00:00<?, ?B/s]"
      ]
     },
     "metadata": {},
     "output_type": "display_data"
    },
    {
     "data": {
      "application/vnd.jupyter.widget-view+json": {
       "model_id": "93d253c717854aefa39159cda82a8069",
       "version_major": 2,
       "version_minor": 0
      },
      "text/plain": [
       "model.safetensors:   0%|          | 0.00/499M [00:00<?, ?B/s]"
      ]
     },
     "metadata": {},
     "output_type": "display_data"
    },
    {
     "name": "stderr",
     "output_type": "stream",
     "text": [
      "Some weights of RobertaForMultipleChoice were not initialized from the model checkpoint at roberta-base and are newly initialized: ['classifier.bias', 'classifier.weight', 'roberta.pooler.dense.bias', 'roberta.pooler.dense.weight']\n",
      "You should probably TRAIN this model on a down-stream task to be able to use it for predictions and inference.\n"
     ]
    }
   ],
   "source": [
    "# Load BERT and RoBERTa tokenizer and pretrained model\n",
    "bert_tokenizer = BertTokenizer.from_pretrained(\"bert-base-uncased\")\n",
    "bert_model = BertForMultipleChoice.from_pretrained(\"bert-base-uncased\").to(device)\n",
    "roberta_tokenizer = RobertaTokenizer.from_pretrained(\"roberta-base\")\n",
    "roberta_model = RobertaForMultipleChoice.from_pretrained(\"roberta-base\").to(device)"
   ]
  },
  {
   "cell_type": "code",
   "execution_count": 12,
   "metadata": {},
   "outputs": [],
   "source": [
    "# Example tokenization for one sample\n",
    "def encode_example(tokenizer,question, choices):\n",
    "    encodings = tokenizer([question] * 2, choices, padding=True, truncation=True, return_tensors=\"pt\")\n",
    "    return {key: val.unsqueeze(0).to(device) for key, val in encodings.items()}"
   ]
  },
  {
   "cell_type": "code",
   "execution_count": 13,
   "metadata": {},
   "outputs": [],
   "source": [
    "# Evaluate on dev set\n",
    "def evaluate(model,tokenizer,dev_qs, dev_choices, dev_labels):\n",
    "    correct = 0\n",
    "    model.eval()\n",
    "    with torch.no_grad():\n",
    "        for q, c, label in zip(dev_qs, dev_choices, dev_labels):\n",
    "            inputs = encode_example(tokenizer,q, c)\n",
    "            logits = model(**inputs).logits\n",
    "            pred = torch.argmax(logits, dim=1).item()\n",
    "            correct += (pred == label)\n",
    "    return correct / len(dev_labels)"
   ]
  },
  {
   "cell_type": "code",
   "execution_count": 14,
   "metadata": {},
   "outputs": [
    {
     "name": "stdout",
     "output_type": "stream",
     "text": [
      "BERT without input reframing\n",
      "Baseline Accuracy: 0.5556\n"
     ]
    }
   ],
   "source": [
    "accuracy = evaluate(bert_model,bert_tokenizer,dev_qs_1, dev_choices_1, dev_labels_1)\n",
    "print(\"BERT without input reframing\")\n",
    "print(f\"Baseline Accuracy: {accuracy:.4f}\")"
   ]
  },
  {
   "cell_type": "code",
   "execution_count": 15,
   "metadata": {},
   "outputs": [
    {
     "name": "stdout",
     "output_type": "stream",
     "text": [
      "RoBERTa without input reframing\n",
      "Baseline Accuracy: 0.4691\n"
     ]
    }
   ],
   "source": [
    "accuracy = evaluate(roberta_model,roberta_tokenizer,dev_qs_1, dev_choices_1, dev_labels_1)\n",
    "print(\"RoBERTa without input reframing\")\n",
    "print(f\"Baseline Accuracy: {accuracy:.4f}\")"
   ]
  },
  {
   "cell_type": "code",
   "execution_count": 16,
   "metadata": {},
   "outputs": [
    {
     "name": "stdout",
     "output_type": "stream",
     "text": [
      "BERT with input reframing\n",
      "Baseline Accuracy: 0.5309\n"
     ]
    }
   ],
   "source": [
    "accuracy = evaluate(bert_model,bert_tokenizer,dev_qs_2, dev_choices_2, dev_labels_2)\n",
    "print(\"BERT with input reframing\")\n",
    "print(f\"Baseline Accuracy: {accuracy:.4f}\")"
   ]
  },
  {
   "cell_type": "code",
   "execution_count": 17,
   "metadata": {},
   "outputs": [
    {
     "name": "stdout",
     "output_type": "stream",
     "text": [
      "RoBERTa with input reframing\n",
      "Baseline Accuracy: 0.4321\n"
     ]
    }
   ],
   "source": [
    "accuracy = evaluate(roberta_model,roberta_tokenizer,dev_qs_2, dev_choices_2, dev_labels_2)\n",
    "print(\"RoBERTa with input reframing\")\n",
    "print(f\"Baseline Accuracy: {accuracy:.4f}\")"
   ]
  },
  {
   "cell_type": "code",
   "execution_count": null,
   "metadata": {},
   "outputs": [],
   "source": []
  },
  {
   "cell_type": "code",
   "execution_count": null,
   "metadata": {},
   "outputs": [],
   "source": []
  }
 ],
 "metadata": {
  "kaggle": {
   "accelerator": "nvidiaTeslaT4",
   "dataSources": [
    {
     "datasetId": 6950036,
     "sourceId": 11141644,
     "sourceType": "datasetVersion"
    }
   ],
   "dockerImageVersionId": 30919,
   "isGpuEnabled": true,
   "isInternetEnabled": true,
   "language": "python",
   "sourceType": "notebook"
  },
  "kernelspec": {
   "display_name": "Python 3 (ipykernel)",
   "language": "python",
   "name": "python3"
  },
  "language_info": {
   "codemirror_mode": {
    "name": "ipython",
    "version": 3
   },
   "file_extension": ".py",
   "mimetype": "text/x-python",
   "name": "python",
   "nbconvert_exporter": "python",
   "pygments_lexer": "ipython3",
   "version": "3.12.3"
  }
 },
 "nbformat": 4,
 "nbformat_minor": 4
}
